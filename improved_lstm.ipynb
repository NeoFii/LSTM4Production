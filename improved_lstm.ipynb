{
 "cells": [
  {
   "cell_type": "code",
   "execution_count": null,
   "id": "771aafa2",
   "metadata": {},
   "outputs": [],
   "source": [
    "#引入相关模块\n",
    "import pandas as pd\n",
    "import numpy as np\n",
    "import tensorflow as tf\n",
    "from tensorflow import keras\n",
    "import matplotlib.pyplot as plt\n",
    "import seaborn as sns\n",
    "tf.random.set_seed(42)"
   ]
  },
  {
   "cell_type": "code",
   "execution_count": null,
   "id": "266a7599",
   "metadata": {},
   "outputs": [],
   "source": [
    "#读取数据\n",
    "full_data = pd.read_excel('Volve_production_data.xlsx')\n",
    "full_data"
   ]
  },
  {
   "cell_type": "code",
   "execution_count": null,
   "id": "b8a650db",
   "metadata": {},
   "outputs": [],
   "source": [
    "column_names = full_data.columns\n",
    "print(column_names)"
   ]
  },
  {
   "cell_type": "code",
   "execution_count": null,
   "id": "45f0e592",
   "metadata": {},
   "outputs": [],
   "source": [
    "unique_well_bore = full_data['NPD_WELL_BORE_NAME'].unique()\n",
    "print(\"所有井的名称:\")\n",
    "print(unique_well_bore)\n",
    "\n",
    "unique_producer_well_bore = full_data[full_data['FLOW_KIND'] == 'production']['NPD_WELL_BORE_NAME'].unique()\n",
    "print(\"\\n产油井名称:\")\n",
    "print(unique_producer_well_bore)\n",
    "\n",
    "unique_injection_well_bore = full_data[full_data['FLOW_KIND'] == 'injection']['NPD_WELL_BORE_NAME'].unique()\n",
    "print(\"\\n注水井名称:\")\n",
    "print(unique_injection_well_bore)\n"
   ]
  },
  {
   "cell_type": "code",
   "execution_count": null,
   "id": "5f0ee53b",
   "metadata": {},
   "outputs": [],
   "source": [
    "full_data = full_data.sort_values(by='DATEPRD')"
   ]
  },
  {
   "cell_type": "code",
   "execution_count": null,
   "id": "b7d8a2ed",
   "metadata": {},
   "outputs": [],
   "source": [
    "# 使用全部产油井的数据\n",
    "data = full_data[full_data['FLOW_KIND'] == 'production'][['DATEPRD', 'ON_STREAM_HRS', 'AVG_DOWNHOLE_PRESSURE', 'AVG_DOWNHOLE_TEMPERATURE', 'AVG_DP_TUBING', 'AVG_ANNULUS_PRESS', 'AVG_CHOKE_SIZE_P', 'AVG_WHP_P', 'AVG_WHT_P', 'DP_CHOKE_SIZE', 'BORE_OIL_VOL']]"
   ]
  },
  {
   "cell_type": "code",
   "execution_count": null,
   "id": "020dbc15",
   "metadata": {},
   "outputs": [],
   "source": [
    "print(f'We have {data.shape[0]} samples')"
   ]
  },
  {
   "cell_type": "code",
   "execution_count": null,
   "id": "3ae3f7bd",
   "metadata": {},
   "outputs": [],
   "source": [
    "null_values = data.isnull().sum()\n",
    "print(\"Null values:\")\n",
    "print(null_values)"
   ]
  },
  {
   "cell_type": "markdown",
   "id": "45d0337e",
   "metadata": {},
   "source": [
    "#### 缺失值处理方案一\n",
    "\n",
    "删除缺失数据\n"
   ]
  },
  {
   "cell_type": "code",
   "execution_count": null,
   "id": "90478665",
   "metadata": {},
   "outputs": [],
   "source": [
    "# data = data.dropna()\n",
    "# null_values = data.isnull().sum()\n",
    "# print(\"Null values:\")\n",
    "# print(null_values)"
   ]
  },
  {
   "cell_type": "markdown",
   "id": "9b225495",
   "metadata": {},
   "source": [
    "#### 缺失值处理方案二\n",
    "\n",
    "- 少量缺失数据删除(<=15)\n",
    "- 中等缺失(181-242)线性插值\n",
    "- 大量缺失特征处理(油井平均压力填充)"
   ]
  },
  {
   "cell_type": "code",
   "execution_count": null,
   "id": "3f06f2ba",
   "metadata": {},
   "outputs": [],
   "source": [
    "# 少量缺失数据删除\n",
    "data = data.dropna(subset=['AVG_WHP_P', 'AVG_WHT_P', 'DP_CHOKE_SIZE']) \n",
    "\n",
    "# 中等缺失(181-242)线性插值 ['AVG_CHOKE_SIZE_P', 'AVG_DOWNHOLE_PRESSURE', 'AVG_DOWNHOLE_TEMPERATURE', 'AVG_DP_TUBING']\n",
    "data[['AVG_CHOKE_SIZE_P', 'AVG_DOWNHOLE_PRESSURE', 'AVG_DOWNHOLE_TEMPERATURE', 'AVG_DP_TUBING']] = data[['AVG_CHOKE_SIZE_P', 'AVG_DOWNHOLE_PRESSURE', 'AVG_DOWNHOLE_TEMPERATURE', 'AVG_DP_TUBING']].interpolate()\n",
    "\n",
    "# 大量缺失特征处理 油井平均压力填充\n",
    "if 'AVG_ANNULUS_PRESS' in data.columns:\n",
    "    data['AVG_ANNULUS_PRESS'].fillna(data['AVG_DOWNHOLE_PRESSURE'], inplace=True)\n",
    "\n",
    "data.isnull().sum()"
   ]
  },
  {
   "cell_type": "code",
   "execution_count": null,
   "id": "1f83eeee",
   "metadata": {},
   "outputs": [],
   "source": [
    "sns.set(style=\"whitegrid\")\n",
    "plt.figure(figsize=(15, 6))\n",
    "sns.lineplot(data=data, x='DATEPRD', y='BORE_OIL_VOL',errorbar=None)\n",
    "plt.xlabel('Date')\n",
    "plt.ylabel('Oil Volume')\n",
    "plt.title('Production Data - Date vs. Oil Volume')\n",
    "plt.tight_layout()\n",
    "plt.show()"
   ]
  },
  {
   "cell_type": "code",
   "execution_count": null,
   "id": "75129e14",
   "metadata": {},
   "outputs": [],
   "source": [
    "tf.random.set_seed(42)\n",
    "from sklearn.preprocessing import MinMaxScaler\n",
    "\n",
    "columns_to_scale = ['ON_STREAM_HRS', 'AVG_DOWNHOLE_PRESSURE', 'AVG_DOWNHOLE_TEMPERATURE', 'AVG_DP_TUBING', 'AVG_ANNULUS_PRESS', 'AVG_CHOKE_SIZE_P', 'AVG_WHP_P', 'AVG_WHT_P', 'DP_CHOKE_SIZE', 'BORE_OIL_VOL']\n",
    "data_to_scale = data[columns_to_scale].copy()\n",
    "scaler = MinMaxScaler()\n",
    "data_scaled = scaler.fit_transform(data_to_scale)\n",
    "data_scaled_df = pd.DataFrame(data_scaled, columns=columns_to_scale)\n",
    "\n",
    "# Add the 'DATEPRD' column as the first column. Later, we will use it for plotting purpose.\n",
    "data_scaled_df.insert(0, 'DATEPRD', data['DATEPRD'])"
   ]
  },
  {
   "cell_type": "code",
   "execution_count": null,
   "id": "5b1dda0f",
   "metadata": {},
   "outputs": [],
   "source": [
    "# 将数据转换成适合LSTM的numpy数据格式\n",
    "features = data_scaled_df[['ON_STREAM_HRS', 'AVG_DOWNHOLE_PRESSURE', 'AVG_DOWNHOLE_TEMPERATURE', 'AVG_DP_TUBING', 'AVG_ANNULUS_PRESS', 'AVG_CHOKE_SIZE_P', 'AVG_WHP_P', 'AVG_WHT_P', 'DP_CHOKE_SIZE', 'BORE_OIL_VOL']].to_numpy()\n",
    "target = data_scaled_df[['BORE_OIL_VOL']].to_numpy()"
   ]
  },
  {
   "cell_type": "code",
   "execution_count": null,
   "id": "2fb38cc5",
   "metadata": {},
   "outputs": [],
   "source": [
    "# Dataset split\n",
    "from sklearn.model_selection import train_test_split\n",
    "\n",
    "X_train, X_temp, Y_train, Y_temp = train_test_split(features, target, test_size=0.3, shuffle=False)\n",
    "X_val, X_test, Y_val, Y_test = train_test_split(X_temp, Y_temp, test_size=0.5, shuffle=False)\n",
    "X_train = np.array(X_train)\n",
    "Y_train = np.array(Y_train)\n",
    "X_val = np.array(X_val)\n",
    "Y_val = np.array(Y_val)\n",
    "X_test = np.array(X_test)\n",
    "Y_test = np.array(Y_test)\n",
    "\n",
    "print(\"Number of samples in train set:\", X_train.shape[0])\n",
    "print(\"Number of samples in validation set:\", X_val.shape[0])\n",
    "print(\"Number of samples in test set:\", X_test.shape[0])"
   ]
  },
  {
   "cell_type": "code",
   "execution_count": null,
   "id": "21a4ee7d",
   "metadata": {},
   "outputs": [],
   "source": [
    "plt.figure(figsize=(15, 6))\n",
    "\n",
    "sns.lineplot(x=data['DATEPRD'][:Y_train.shape[0]].ravel(), y=Y_train.ravel(), label='Train', errorbar=None)\n",
    "sns.lineplot(x=data['DATEPRD'][Y_train.shape[0]:Y_train.shape[0] + Y_val.shape[0]].ravel(), y=Y_val.ravel(), label='Val', errorbar=None)\n",
    "sns.lineplot(x=data['DATEPRD'][Y_train.shape[0] + Y_val.shape[0]:Y_train.shape[0] + Y_val.shape[0] + Y_test.shape[0]].ravel(), y=Y_test.ravel(), label='Test', errorbar=None)\n",
    "\n",
    "plt.xlabel('Date')\n",
    "plt.ylabel('Oil Volume')\n",
    "plt.title('Production Data - Date vs. Oil Volume')\n",
    "plt.grid(True)\n",
    "plt.legend()\n",
    "plt.tight_layout()\n",
    "plt.show()\n"
   ]
  },
  {
   "cell_type": "code",
   "execution_count": null,
   "id": "8c0eccb5",
   "metadata": {},
   "outputs": [],
   "source": [
    "def windowed_dataset(features, target, window_size, batch_size):\n",
    "    dataset = tf.data.Dataset.from_tensor_slices((features, target))\n",
    "    dataset = dataset.window(window_size + 1, shift=1, drop_remainder=True)\n",
    "    dataset = dataset.flat_map(lambda x, y: tf.data.Dataset.zip((x.batch(window_size + 1), y.batch(window_size + 1))))\n",
    "    dataset = dataset.map(lambda x, y: (x[:-1], y[1:]))\n",
    "    dataset = dataset.batch(batch_size).prefetch(1)\n",
    "    return dataset"
   ]
  },
  {
   "cell_type": "code",
   "execution_count": null,
   "id": "6f42c7a6",
   "metadata": {},
   "outputs": [],
   "source": [
    "tf.random.set_seed(42)\n",
    "window_size = 5\n",
    "batch_size = 32\n",
    "train_set = windowed_dataset(X_train, Y_train, window_size, batch_size)\n",
    "val_set = windowed_dataset(X_val, Y_val, window_size, batch_size)\n",
    "test_set = windowed_dataset(X_test, Y_test, window_size, batch_size)"
   ]
  },
  {
   "cell_type": "code",
   "execution_count": null,
   "id": "72aa6ae4",
   "metadata": {},
   "outputs": [],
   "source": [
    "train_iterator = iter(train_set)\n",
    "first_element = next(train_iterator)\n",
    "features_shape = first_element[0].shape\n",
    "target_shape = first_element[1].shape\n",
    "\n",
    "print(\"Features shape:\", features_shape)\n",
    "print(\"Target shape:\", target_shape)"
   ]
  },
  {
   "cell_type": "code",
   "execution_count": null,
   "id": "41f36a02",
   "metadata": {},
   "outputs": [],
   "source": [
    "first_sample = (first_element[0][0], first_element[1][0])\n",
    "\n",
    "for day in range(len(first_sample[0])):\n",
    "    print(f\"\\033[1;34mDay {day + 1} Data:\\033[0m\")\n",
    "    print(f\"Input data for day {day + 1}: {first_sample[0][day]}\")\n",
    "    print(f\"Target (oil production) for day {day + 2}: {first_sample[1][day]}\")\n",
    "    print()"
   ]
  },
  {
   "cell_type": "code",
   "execution_count": null,
   "id": "b993fdde",
   "metadata": {},
   "outputs": [],
   "source": [
    "from typing import Tuple\n",
    "from tensorflow.keras.layers import Bidirectional, LayerNormalization, Input\n",
    "from tensorflow.keras.models import Model\n",
    "\n",
    "class TemporalAttention(tf.keras.layers.Layer):\n",
    "    \"\"\"时间注意力机制层\"\"\"\n",
    "    def __init__(self, units: int):\n",
    "        super().__init__()\n",
    "        self.W1 = tf.keras.layers.Dense(units)\n",
    "        self.W2 = tf.keras.layers.Dense(units)\n",
    "        self.V = tf.keras.layers.Dense(1)\n",
    "\n",
    "    def call(self, inputs):\n",
    "        hidden_with_time_axis = tf.expand_dims(inputs, 1)\n",
    "        score = self.V(tf.nn.tanh(\n",
    "            self.W1(inputs) + self.W2(hidden_with_time_axis)))\n",
    "        attention_weights = tf.nn.softmax(score, axis=1)\n",
    "        context_vector = attention_weights * inputs\n",
    "        return tf.reduce_sum(context_vector, axis=1)\n",
    "\n",
    "def create_bilstm_attention_model(input_shape: Tuple[int, int]) -> tf.keras.Model:\n",
    "    \"\"\"\n",
    "    创建动态输入形状的BiLSTM+Attention模型\n",
    "    \n",
    "    参数:\n",
    "        input_shape: (window_size, num_features) 输入数据的形状\n",
    "        \n",
    "    返回:\n",
    "        编译好的Keras模型实例\n",
    "    \"\"\"\n",
    "    # 输入层\n",
    "    inputs = tf.keras.Input(shape=input_shape)\n",
    "    \n",
    "    # 双向LSTM层\n",
    "    bilstm = Bidirectional(\n",
    "        tf.keras.layers.LSTM(128, return_sequences=True),\n",
    "        merge_mode='concat')(inputs)\n",
    "    \n",
    "    # 层标准化\n",
    "    norm = LayerNormalization()(bilstm)\n",
    "    \n",
    "    # Attention机制\n",
    "    attention = TemporalAttention(64)(norm)\n",
    "    \n",
    "    # 输出层\n",
    "    outputs = tf.keras.layers.Dense(1)(attention)\n",
    "    \n",
    "    return tf.keras.Model(inputs=inputs, outputs=outputs)"
   ]
  },
  {
   "cell_type": "code",
   "execution_count": null,
   "id": "096b5746",
   "metadata": {},
   "outputs": [],
   "source": [
    "# 使用示例:\n",
    "model = create_bilstm_attention_model(input_shape=(window_size, features.shape[1]))  # 5天窗口,10个特征\n",
    "model.summary()"
   ]
  },
  {
   "cell_type": "code",
   "execution_count": null,
   "id": "60f7e5b9",
   "metadata": {},
   "outputs": [],
   "source": [
    "# 训练配置优化版\n",
    "tf.random.set_seed(42)\n",
    "\n",
    "# 动态学习率调度\n",
    "lr_schedule = tf.keras.optimizers.schedules.ExponentialDecay(\n",
    "    initial_learning_rate=0.0005,  # 稍大的初始学习率\n",
    "    decay_steps=500,\n",
    "    decay_rate=0.9)\n",
    "\n",
    "# 早停策略调整\n",
    "early_stopping = tf.keras.callbacks.EarlyStopping(\n",
    "    monitor='val_loss',\n",
    "    patience=100,\n",
    "    restore_best_weights=True,\n",
    "    min_delta=0.001)  # 最小改进阈值\n",
    "\n",
    "# 增加指标监控\n",
    "metrics = [\n",
    "    tf.keras.metrics.MeanAbsoluteError(name='mae'),\n",
    "    tf.keras.metrics.RootMeanSquaredError(name='rmse')\n",
    "]\n",
    "\n",
    "model.compile(\n",
    "    loss='mean_squared_error',\n",
    "    optimizer=tf.keras.optimizers.Adam(learning_rate=lr_schedule),\n",
    "    metrics=metrics)\n",
    "\n",
    "# 增加模型检查点\n",
    "checkpoint = tf.keras.callbacks.ModelCheckpoint(\n",
    "    'best_model.h5',\n",
    "    save_best_only=True,\n",
    "    monitor='val_loss')\n",
    "\n",
    "history = model.fit(\n",
    "    train_set,\n",
    "    epochs=500,  # 减少总轮次\n",
    "    validation_data=val_set,\n",
    "    shuffle=False,  # 保持时序数据特性\n",
    "    callbacks=[early_stopping, checkpoint],\n",
    "    verbose=1)\n"
   ]
  },
  {
   "cell_type": "code",
   "execution_count": null,
   "id": "bdf74826",
   "metadata": {},
   "outputs": [],
   "source": [
    "train_loss = model.history.history['loss']\n",
    "val_loss = model.history.history['val_loss']\n",
    "epochs = range(1, len(train_loss) + 1)\n",
    "\n",
    "plt.plot(epochs, train_loss, 'b', label='Training Loss')\n",
    "plt.plot(epochs, val_loss, 'r', label='Validation Loss')\n",
    "plt.title('Training and Validation Loss')\n",
    "plt.xlabel('Epochs')\n",
    "plt.ylabel('Loss')\n",
    "plt.legend()\n",
    "plt.show()"
   ]
  },
  {
   "cell_type": "code",
   "execution_count": null,
   "id": "2bdc5710",
   "metadata": {},
   "outputs": [],
   "source": [
    "predictions = model.predict(test_set)"
   ]
  },
  {
   "cell_type": "code",
   "execution_count": null,
   "id": "66fd3882",
   "metadata": {},
   "outputs": [],
   "source": [
    "# 获取最后一步的预测值（假设预测的是每个窗口的最后一天）\n",
    "predictions_flat = predictions[:, -1, :]  # 形状从(1121,5,1)变为(1121,1)\n",
    "\n",
    "# 确保X_test切片正确\n",
    "test_features = X_test[window_size:, 1:]  # 跳过日期列，从window_size开始\n",
    "\n",
    "# 创建DataFrame时确保维度匹配\n",
    "df_pred = pd.concat([\n",
    "    pd.DataFrame(test_features), \n",
    "    pd.DataFrame(predictions_flat, columns=['PREDICTED'])\n",
    "], axis=1)\n",
    "\n",
    "# 逆缩放时确保列顺序与scaler训练时一致\n",
    "rev_trans = scaler.inverse_transform(df_pred)\n",
    "\n",
    "# 获取对应时间段的原始数据\n",
    "df_final = data.iloc[-len(predictions_flat):].copy()\n",
    "df_final['PREDICTED_OIL'] = rev_trans[:, -1]  # 取最后一列(预测值列)\n"
   ]
  },
  {
   "cell_type": "code",
   "execution_count": null,
   "id": "2703eacf",
   "metadata": {},
   "outputs": [],
   "source": [
    "sns.set(style=\"whitegrid\")\n",
    "plt.figure(figsize=(12, 6))\n",
    "sns.lineplot(data=df_final, x='DATEPRD', y='BORE_OIL_VOL', label='Actual', errorbar=None)\n",
    "sns.lineplot(data=df_final, x='DATEPRD', y='PREDICTED_OIL', label='Predicted', errorbar=None)\n",
    "plt.xlabel('Date')\n",
    "plt.ylabel('Oil Production')\n",
    "plt.title('Actual vs. Predicted')\n",
    "plt.legend()\n",
    "plt.grid(True)\n",
    "plt.show()"
   ]
  },
  {
   "cell_type": "code",
   "execution_count": null,
   "id": "2ce71c85",
   "metadata": {},
   "outputs": [],
   "source": [
    "compare_data = df_final[['DATEPRD', 'BORE_OIL_VOL', 'PREDICTED_OIL']]\n",
    "compare_data"
   ]
  },
  {
   "cell_type": "code",
   "execution_count": null,
   "id": "f5c0032a",
   "metadata": {},
   "outputs": [],
   "source": [
    "from sklearn.metrics import mean_squared_error, mean_absolute_error, r2_score\n",
    "import numpy as np\n",
    "\n",
    "# 假设 compare_data 是包含真实值和预测值的 DataFrame\n",
    "# compare_data = df_final[['DATEPRD', 'BORE_OIL_VOL', 'PREDICTED_OIL']]\n",
    "\n",
    "# 提取真实值和预测值\n",
    "y_true = compare_data['BORE_OIL_VOL']\n",
    "y_pred = compare_data['PREDICTED_OIL']\n",
    "\n",
    "# 计算 MSE\n",
    "mse = mean_squared_error(y_true, y_pred)\n",
    "print(f\"均方误差 (MSE): {mse}\")\n",
    "\n",
    "# 计算 MAE\n",
    "mae = mean_absolute_error(y_true, y_pred)\n",
    "print(f\"平均绝对误差 (MAE): {mae}\")\n",
    "\n",
    "# 计算 RMSE\n",
    "rmse = np.sqrt(mse)\n",
    "print(f\"均方根误差 (RMSE): {rmse}\")\n",
    "\n",
    "# 计算 R²\n",
    "r2 = r2_score(y_true, y_pred)\n",
    "print(f\"决定系数 (R²): {r2}\")"
   ]
  }
 ],
 "metadata": {
  "kernelspec": {
   "display_name": "tf_env",
   "language": "python",
   "name": "python3"
  },
  "language_info": {
   "codemirror_mode": {
    "name": "ipython",
    "version": 3
   },
   "file_extension": ".py",
   "mimetype": "text/x-python",
   "name": "python",
   "nbconvert_exporter": "python",
   "pygments_lexer": "ipython3",
   "version": "3.9.22"
  }
 },
 "nbformat": 4,
 "nbformat_minor": 5
}
